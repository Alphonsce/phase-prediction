{
 "cells": [
  {
   "cell_type": "code",
   "execution_count": 1,
   "metadata": {},
   "outputs": [],
   "source": [
    "import pandas as pd\n",
    "import numpy as np\n",
    "import rdkit\n",
    "import matplotlib.pyplot as plt\n",
    "\n",
    "from rdkit import Chem\n",
    "from rdkit.Chem import rdMolDescriptors, Descriptors, Lipinski\n",
    "from rdkit.Chem import AllChem\n",
    "from rdkit.Chem import rdFingerprintGenerator"
   ]
  },
  {
   "cell_type": "markdown",
   "metadata": {},
   "source": [
    "# 1) Data preparation"
   ]
  },
  {
   "cell_type": "markdown",
   "metadata": {},
   "source": [
    "## О данных:\n",
    "Выборка примерно сбалансированная:\n",
    "- 432 vs 361"
   ]
  },
  {
   "cell_type": "code",
   "execution_count": 2,
   "metadata": {},
   "outputs": [],
   "source": [
    "from sklearn.preprocessing import normalize\n",
    "from sklearn.decomposition import PCA"
   ]
  },
  {
   "cell_type": "code",
   "execution_count": 3,
   "metadata": {},
   "outputs": [],
   "source": [
    "data_path = \"./data/small_dataset_solid_liquid.ssv\"\n",
    "columns = ['line_number', 'smiles', 'cas', 'label']"
   ]
  },
  {
   "cell_type": "code",
   "execution_count": 4,
   "metadata": {},
   "outputs": [],
   "source": [
    "def create_df(data_path, columns) -> pd.DataFrame:\n",
    "    df = pd.read_csv(data_path, sep=' ', header=None, names=columns)\n",
    "    df[\"label\"] = df['label'].replace({1: 0, 2: 1})\n",
    "    return df\n",
    "\n",
    "def compute_fingerprints(smiles, radius, nbits):\n",
    "    mol = Chem.MolFromSmiles(smiles)\n",
    "    mfpgen = rdFingerprintGenerator.GetMorganGenerator(radius=radius, fpSize=nbits)\n",
    "    return mfpgen.GetFingerprint(mol)\n",
    "\n",
    "def compute_descriptors(smiles, descriptors):\n",
    "    mol = Chem.MolFromSmiles(smiles)\n",
    "\n",
    "    avail_descriptors = {\n",
    "        'MolWt': lambda mol: Descriptors.MolWt(mol),\n",
    "        'LogP': lambda mol: Descriptors.MolLogP(mol),\n",
    "        'TPSA': lambda mol: Descriptors.TPSA(mol),\n",
    "        'NumRotatableBonds': lambda mol: Descriptors.NumRotatableBonds(mol),\n",
    "        'NumHDonors': lambda mol: Descriptors.NumHDonors(mol),\n",
    "        'NumHAcceptors': lambda mol: Descriptors.NumHAcceptors(mol),\n",
    "        'FractionCSP3': lambda mol: Lipinski.FractionCSP3(mol),\n",
    "        'NumAromaticRings': lambda mol: Descriptors.NumAromaticRings(mol),\n",
    "        'FractionRotatableBonds': lambda mol: rdMolDescriptors.CalcFractionCSP3(mol),\n",
    "\n",
    "        # ----------\n",
    "        'NumHBD': lambda mol: rdMolDescriptors.CalcNumHBD(mol),\n",
    "        \"NumHeavyAtoms\": lambda mol: rdMolDescriptors.CalcNumHeavyAtoms(mol),\n",
    "        # ----------\n",
    "        \n",
    "        'NumHBA': lambda mol: rdMolDescriptors.CalcNumHBA(mol),\n",
    "        'NumRings': lambda mol: rdMolDescriptors.CalcNumRings(mol),\n",
    "        'NumHeteroatoms': lambda mol: rdMolDescriptors.CalcNumHeteroatoms(mol),\n",
    "        'Chi0v': lambda mol: rdMolDescriptors.CalcChi0v(mol),\n",
    "        'Chi1v': lambda mol: rdMolDescriptors.CalcChi1v(mol),\n",
    "        'Chi2v': lambda mol: rdMolDescriptors.CalcChi2v(mol),\n",
    "    }\n",
    "\n",
    "    X = []\n",
    "    for desc_name in descriptors:\n",
    "        X.append(avail_descriptors[desc_name](mol))\n",
    "    \n",
    "    return pd.Series(X)\n",
    "    \n",
    "def create_data(df, descriptors: list, apply_norm=False, radius=2, nbits=2048, fingerprints_pca=True, pca_dim=32) -> tuple:\n",
    "    '''\n",
    "    Arguments:\n",
    "    -------\n",
    "    radius: radius for Morgan fingerprints\n",
    "    nbits: number of bits for Morgan fingerprints\n",
    "\n",
    "    fingerprints_pca: use PCA on fingerprints features or not\n",
    "    pca_dim: obvious\n",
    "\n",
    "    Returns: (X_fps, X_at, y)\n",
    "    ------\n",
    "    X_fps: fingerprint features\n",
    "    X_at: non-fingerprint atomic features\n",
    "    y: label\n",
    "    '''\n",
    "    smiles = df['smiles']\n",
    "    y = df['label'].values\n",
    "\n",
    "    df['fingerprints'] = smiles.apply(compute_fingerprints, args=(radius, nbits,))\n",
    "    df = df.dropna(subset=['fingerprints'])\n",
    "    X_fps = np.array([np.array(fp) for fp in df['fingerprints']])\n",
    "    if fingerprints_pca:\n",
    "        pca = PCA(n_components=pca_dim)\n",
    "        X_fps = pca.fit_transform(X_fps)\n",
    "\n",
    "    X_at = smiles.apply(compute_descriptors, args=(descriptors,))\n",
    "    X_at = np.array(X_at)\n",
    "\n",
    "    if apply_norm:\n",
    "        X_fps = normalize(X_fps)\n",
    "        X_at = normalize(X_at)\n",
    "\n",
    "    return X_fps, X_at, y"
   ]
  },
  {
   "cell_type": "markdown",
   "metadata": {},
   "source": [
    "---\n",
    "# 2) Model Creation & Learning"
   ]
  },
  {
   "cell_type": "code",
   "execution_count": 5,
   "metadata": {},
   "outputs": [],
   "source": [
    "from sklearn.model_selection import train_test_split\n",
    "from sklearn.metrics import accuracy_score, roc_auc_score, r2_score"
   ]
  },
  {
   "cell_type": "code",
   "execution_count": 6,
   "metadata": {},
   "outputs": [],
   "source": [
    "def eval_metrics(y_true, y_pred):\n",
    "    return {\n",
    "        \"ACC\": accuracy_score(y_true, y_pred),\n",
    "        \"ROC-AUC\": roc_auc_score(y_true, y_pred),\n",
    "        \"R2\": r2_score(y_true, y_pred)\n",
    "    }"
   ]
  },
  {
   "cell_type": "code",
   "execution_count": 7,
   "metadata": {},
   "outputs": [],
   "source": [
    "descriptors = [\n",
    "    \"NumHBD\",                # Number of Hydrogen Bond Donors (rdMolDescriptors)\n",
    "    \"NumHeavyAtoms\",         # Number of Heavy Atoms\n",
    "\n",
    "    'MolWt',                 # Molecular Weight\n",
    "    'LogP',                  # LogP (octanol-water partition coefficient)\n",
    "    'TPSA',                  # Topological Polar Surface Area\n",
    "    'NumRotatableBonds',     # Number of Rotatable Bonds\n",
    "    'NumHDonors',            # Number of Hydrogen Bond Donors\n",
    "    'NumHAcceptors',         # Number of Hydrogen Bond Acceptors\n",
    "    'FractionCSP3',          # Fraction of sp3 Hybridized Carbons\n",
    "    'NumAromaticRings',      # Number of Aromatic Rings\n",
    "    'FractionRotatableBonds',# Fraction of Rotatable Bonds\n",
    "    'NumHBD',               \n",
    "    'NumHBA',                # Number of Hydrogen Bond Acceptors (rdMolDescriptors)\n",
    "    'NumRings',              # Number of Rings\n",
    "    'NumHeteroatoms',        # Number of Heteroatoms\n",
    "    'Chi0v',                 # Chi Connectivity Index 0 (Valence)\n",
    "    'Chi1v',                 # Chi Connectivity Index 1 (Valence)\n",
    "    'Chi2v',                 # Chi Connectivity Index 2 (Valence)\n",
    "]\n",
    "\n",
    "df = create_df(data_path, columns)"
   ]
  },
  {
   "cell_type": "code",
   "execution_count": 8,
   "metadata": {},
   "outputs": [],
   "source": [
    "X_fps, X_at, y = create_data(\n",
    "    df,\n",
    "    descriptors=descriptors,\n",
    "    apply_norm=False,\n",
    "    radius=2,\n",
    "    nbits=4096,\n",
    "    fingerprints_pca=True,\n",
    "    pca_dim=32,\n",
    ")\n",
    "\n",
    "X_combined = np.hstack([X_fps, X_at])"
   ]
  },
  {
   "cell_type": "code",
   "execution_count": 9,
   "metadata": {},
   "outputs": [],
   "source": [
    "def fit_and_eval(model, X, y):\n",
    "    X_train, X_test, y_train, y_test = train_test_split(X, y, test_size=0.2, random_state=42)\n",
    "    model.fit(X_train, y_train)\n",
    "\n",
    "    y_pred = model.predict(X_test)\n",
    "    metrics = eval_metrics(y_test, y_pred)\n",
    "\n",
    "    return metrics"
   ]
  },
  {
   "cell_type": "markdown",
   "metadata": {},
   "source": [
    "## 2.1) RandomForest on X_at"
   ]
  },
  {
   "cell_type": "code",
   "execution_count": 10,
   "metadata": {},
   "outputs": [],
   "source": [
    "from sklearn.ensemble import RandomForestClassifier"
   ]
  },
  {
   "cell_type": "code",
   "execution_count": 11,
   "metadata": {},
   "outputs": [
    {
     "data": {
      "text/plain": [
       "{'ACC': 0.9245283018867925,\n",
       " 'ROC-AUC': 0.9244535951853026,\n",
       " 'R2': 0.69781438074121}"
      ]
     },
     "execution_count": 11,
     "metadata": {},
     "output_type": "execute_result"
    }
   ],
   "source": [
    "model = RandomForestClassifier(n_estimators=100, random_state=42)\n",
    "\n",
    "fit_and_eval(model, X=X_at, y=y)"
   ]
  },
  {
   "cell_type": "markdown",
   "metadata": {},
   "source": [
    "## 2.2) RandomForest on X_fps with PCA"
   ]
  },
  {
   "cell_type": "code",
   "execution_count": 12,
   "metadata": {},
   "outputs": [
    {
     "data": {
      "text/plain": [
       "{'ACC': 0.8238993710691824,\n",
       " 'ROC-AUC': 0.8209534368070953,\n",
       " 'R2': 0.29490022172949004}"
      ]
     },
     "execution_count": 12,
     "metadata": {},
     "output_type": "execute_result"
    }
   ],
   "source": [
    "model = RandomForestClassifier(n_estimators=100, random_state=42)\n",
    "\n",
    "fit_and_eval(model, X=X_fps, y=y)"
   ]
  },
  {
   "cell_type": "markdown",
   "metadata": {},
   "source": [
    "## 2.3) RandomForst on [X_at, PCA(X_fps)]"
   ]
  },
  {
   "cell_type": "code",
   "execution_count": 13,
   "metadata": {},
   "outputs": [
    {
     "data": {
      "text/plain": [
       "{'ACC': 0.9371069182389937,\n",
       " 'ROC-AUC': 0.9374406081723156,\n",
       " 'R2': 0.7481786506176751}"
      ]
     },
     "execution_count": 13,
     "metadata": {},
     "output_type": "execute_result"
    }
   ],
   "source": [
    "model = RandomForestClassifier(n_estimators=100, random_state=42)\n",
    "\n",
    "fit_and_eval(model, X=X_combined, y=y)"
   ]
  },
  {
   "cell_type": "markdown",
   "metadata": {},
   "source": [
    "---\n",
    "## 2.4) Catboost on [X_at, PCA(X_fps)]"
   ]
  },
  {
   "cell_type": "code",
   "execution_count": 14,
   "metadata": {},
   "outputs": [],
   "source": [
    "from catboost import CatBoostClassifier"
   ]
  },
  {
   "cell_type": "markdown",
   "metadata": {},
   "source": [
    "**Current best**:\n",
    "```python\n",
    "data_args = {\n",
    "    \"descriptors\": descriptors,\n",
    "    \"apply_norm\": False,\n",
    "    \"radius\": 2,\n",
    "    \"nbits\": 4096,\n",
    "    \"fingerprints_pca\": True,\n",
    "    \"pca_dim\": 32,\n",
    "}\n",
    "\n",
    "model_args = {\n",
    "    \"iterations\": 1000,\n",
    "    \"learning_rate\": 0.1,\n",
    "    \"depth\": 6,\n",
    "    \"loss_function\": 'Logloss',\n",
    "    \"verbose\": 0,\n",
    "    \"random_seed\": 100\n",
    "}\n",
    "X = X_combined\n",
    "```"
   ]
  },
  {
   "cell_type": "code",
   "execution_count": 26,
   "metadata": {},
   "outputs": [],
   "source": [
    "data_args = {\n",
    "    \"descriptors\": descriptors,\n",
    "    \"apply_norm\": False,\n",
    "    \"radius\": 2,\n",
    "    \"nbits\": 4096,\n",
    "    \"fingerprints_pca\": True,\n",
    "    \"pca_dim\": 32,\n",
    "}\n",
    "\n",
    "model_args = {\n",
    "    \"iterations\": 1000,\n",
    "    \"learning_rate\": 0.1,\n",
    "    \"depth\": 6,\n",
    "    \"loss_function\": 'Logloss',\n",
    "    \"verbose\": 0,\n",
    "    \"random_seed\": 100\n",
    "}"
   ]
  },
  {
   "cell_type": "code",
   "execution_count": 27,
   "metadata": {},
   "outputs": [],
   "source": [
    "X_fps, X_at, y = create_data(df, **data_args)\n",
    "X_combined = np.hstack([X_fps, X_at])\n",
    "X_train, X_test, y_train, y_test = train_test_split(X_combined, y, test_size=0.2, random_state=42)"
   ]
  },
  {
   "cell_type": "code",
   "execution_count": 28,
   "metadata": {},
   "outputs": [],
   "source": [
    "model = CatBoostClassifier(**model_args)\n",
    "model.fit(X_train, y_train, eval_set=(X_test, y_test))\n",
    "\n",
    "y_pred = model.predict(X_test)"
   ]
  },
  {
   "cell_type": "code",
   "execution_count": 29,
   "metadata": {},
   "outputs": [
    {
     "data": {
      "text/plain": [
       "{'ACC': 0.9371069182389937,\n",
       " 'ROC-AUC': 0.936648717136522,\n",
       " 'R2': 0.7481786506176751}"
      ]
     },
     "execution_count": 29,
     "metadata": {},
     "output_type": "execute_result"
    }
   ],
   "source": [
    "eval_metrics(y_test, y_pred)"
   ]
  }
 ],
 "metadata": {
  "kernelspec": {
   "display_name": "project_env",
   "language": "python",
   "name": "python3"
  },
  "language_info": {
   "codemirror_mode": {
    "name": "ipython",
    "version": 3
   },
   "file_extension": ".py",
   "mimetype": "text/x-python",
   "name": "python",
   "nbconvert_exporter": "python",
   "pygments_lexer": "ipython3",
   "version": "3.11.3"
  }
 },
 "nbformat": 4,
 "nbformat_minor": 2
}
