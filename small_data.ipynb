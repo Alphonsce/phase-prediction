{
 "cells": [
  {
   "cell_type": "code",
   "execution_count": 1,
   "metadata": {},
   "outputs": [],
   "source": [
    "import pandas as pd\n",
    "import numpy as np\n",
    "import rdkit\n",
    "import matplotlib.pyplot as plt\n",
    "\n",
    "from rdkit import Chem\n",
    "from rdkit.Chem import rdMolDescriptors, Descriptors, Lipinski\n",
    "from rdkit.Chem import AllChem\n",
    "from rdkit.Chem import rdFingerprintGenerator"
   ]
  },
  {
   "cell_type": "code",
   "execution_count": 2,
   "metadata": {},
   "outputs": [],
   "source": [
    "%load_ext autoreload\n",
    "%autoreload 2"
   ]
  },
  {
   "cell_type": "code",
   "execution_count": 3,
   "metadata": {},
   "outputs": [],
   "source": [
    "from sklearn.preprocessing import normalize\n",
    "from sklearn.decomposition import PCA"
   ]
  },
  {
   "cell_type": "code",
   "execution_count": 4,
   "metadata": {},
   "outputs": [],
   "source": [
    "from utils import create_df, compute_fingerprints, compute_descriptors, create_data, eval_metrics"
   ]
  },
  {
   "cell_type": "markdown",
   "metadata": {},
   "source": [
    "# 1) Data preparation"
   ]
  },
  {
   "cell_type": "markdown",
   "metadata": {},
   "source": [
    "## О данных:\n",
    "Выборка примерно сбалансированная:\n",
    "- 432 vs 361"
   ]
  },
  {
   "cell_type": "markdown",
   "metadata": {},
   "source": [
    "---\n",
    "# 2) Model Creation & Learning"
   ]
  },
  {
   "cell_type": "code",
   "execution_count": 5,
   "metadata": {},
   "outputs": [],
   "source": [
    "from sklearn.model_selection import train_test_split\n",
    "from sklearn.metrics import accuracy_score, roc_auc_score, r2_score, balanced_accuracy_score\n",
    "from sklearn.metrics import mean_absolute_error, mean_squared_error, root_mean_squared_error"
   ]
  },
  {
   "cell_type": "code",
   "execution_count": 6,
   "metadata": {},
   "outputs": [],
   "source": [
    "descriptors = [\n",
    "    \"NumHBD\",                # Number of Hydrogen Bond Donors (rdMolDescriptors)\n",
    "    \"NumHeavyAtoms\",         # Number of Heavy Atoms\n",
    "\n",
    "    'MolWt',                 # Molecular Weight\n",
    "    'LogP',                  # LogP (octanol-water partition coefficient)\n",
    "    'TPSA',                  # Topological Polar Surface Area\n",
    "    'NumRotatableBonds',     # Number of Rotatable Bonds\n",
    "    'NumHDonors',            # Number of Hydrogen Bond Donors\n",
    "    'NumHAcceptors',         # Number of Hydrogen Bond Acceptors\n",
    "    'FractionCSP3',          # Fraction of sp3 Hybridized Carbons\n",
    "    'NumAromaticRings',      # Number of Aromatic Rings\n",
    "    'FractionRotatableBonds',# Fraction of Rotatable Bonds\n",
    "    'NumHBD',               \n",
    "    'NumHBA',                # Number of Hydrogen Bond Acceptors (rdMolDescriptors)\n",
    "    'NumRings',              # Number of Rings\n",
    "    'NumHeteroatoms',        # Number of Heteroatoms\n",
    "    'Chi0v',                 # Chi Connectivity Index 0 (Valence)\n",
    "    'Chi1v',                 # Chi Connectivity Index 1 (Valence)\n",
    "    'Chi2v',                 # Chi Connectivity Index 2 (Valence)\n",
    "]\n",
    "\n",
    "data_path = \"./data/small_dataset_solid_liquid.ssv\"\n",
    "columns = ['line_number', 'smiles', 'cas', 'label']\n",
    "\n",
    "df = create_df(data_path, columns)"
   ]
  },
  {
   "cell_type": "code",
   "execution_count": 7,
   "metadata": {},
   "outputs": [],
   "source": [
    "X_fps, X_at, y = create_data(\n",
    "    df,\n",
    "    descriptors=descriptors,\n",
    "    apply_norm=False,\n",
    "    radius=2,\n",
    "    nbits=4096,\n",
    "    fingerprints_pca=True,\n",
    "    pca_dim=32,\n",
    ")\n",
    "\n",
    "X_combined = np.hstack([X_fps, X_at])"
   ]
  },
  {
   "cell_type": "code",
   "execution_count": 8,
   "metadata": {},
   "outputs": [],
   "source": [
    "def fit_and_eval(model, X, y, test_size=0.2):\n",
    "    X_train, X_test, y_train, y_test = train_test_split(X, y, test_size=test_size, random_state=42)\n",
    "    model.fit(X_train, y_train)\n",
    "\n",
    "    y_pred = model.predict(X_test)\n",
    "    metrics = eval_metrics(y_test, y_pred)\n",
    "\n",
    "    return metrics"
   ]
  },
  {
   "cell_type": "code",
   "execution_count": 9,
   "metadata": {},
   "outputs": [],
   "source": [
    "TEST_SIZE = 0.2"
   ]
  },
  {
   "cell_type": "markdown",
   "metadata": {},
   "source": [
    "## 2.1) RandomForest on X_at"
   ]
  },
  {
   "cell_type": "code",
   "execution_count": 10,
   "metadata": {},
   "outputs": [],
   "source": [
    "from sklearn.ensemble import RandomForestClassifier"
   ]
  },
  {
   "cell_type": "code",
   "execution_count": 11,
   "metadata": {},
   "outputs": [
    {
     "data": {
      "text/plain": [
       "{'ACC': 0.9245283018867925,\n",
       " 'BAL-ACC': 0.9244535951853026,\n",
       " 'ROC-AUC': 0.9244535951853026,\n",
       " 'R2': 0.69781438074121}"
      ]
     },
     "execution_count": 11,
     "metadata": {},
     "output_type": "execute_result"
    }
   ],
   "source": [
    "model = RandomForestClassifier(n_estimators=100, random_state=42)\n",
    "\n",
    "fit_and_eval(model, X=X_at, y=y)"
   ]
  },
  {
   "cell_type": "markdown",
   "metadata": {},
   "source": [
    "## 2.2) RandomForest on X_fps with PCA"
   ]
  },
  {
   "cell_type": "code",
   "execution_count": 12,
   "metadata": {},
   "outputs": [
    {
     "data": {
      "text/plain": [
       "{'ACC': 0.8238993710691824,\n",
       " 'BAL-ACC': 0.8213493823249921,\n",
       " 'ROC-AUC': 0.8213493823249921,\n",
       " 'R2': 0.29490022172949004}"
      ]
     },
     "execution_count": 12,
     "metadata": {},
     "output_type": "execute_result"
    }
   ],
   "source": [
    "model = RandomForestClassifier(n_estimators=100, random_state=42)\n",
    "\n",
    "fit_and_eval(model, X=X_fps, y=y, test_size=TEST_SIZE)"
   ]
  },
  {
   "cell_type": "markdown",
   "metadata": {},
   "source": [
    "## 2.3) RandomForst on [X_at, PCA(X_fps)]"
   ]
  },
  {
   "cell_type": "code",
   "execution_count": 13,
   "metadata": {},
   "outputs": [
    {
     "data": {
      "text/plain": [
       "{'ACC': 0.9182389937106918,\n",
       " 'BAL-ACC': 0.9175641431738992,\n",
       " 'ROC-AUC': 0.9175641431738992,\n",
       " 'R2': 0.6726322458029775}"
      ]
     },
     "execution_count": 13,
     "metadata": {},
     "output_type": "execute_result"
    }
   ],
   "source": [
    "forest_model = RandomForestClassifier(n_estimators=100, random_state=42)\n",
    "\n",
    "fit_and_eval(forest_model, X=X_combined, y=y, test_size=TEST_SIZE)"
   ]
  },
  {
   "cell_type": "markdown",
   "metadata": {},
   "source": [
    "---\n",
    "## 2.4) Catboost on [X_at, PCA(X_fps)]"
   ]
  },
  {
   "cell_type": "code",
   "execution_count": 14,
   "metadata": {},
   "outputs": [],
   "source": [
    "from catboost import CatBoostClassifier"
   ]
  },
  {
   "cell_type": "markdown",
   "metadata": {},
   "source": [
    "**Current best**:\n",
    "```python\n",
    "data_args = {\n",
    "    \"descriptors\": descriptors,\n",
    "    \"apply_norm\": False,\n",
    "    \"radius\": 2,\n",
    "    \"nbits\": 4096,\n",
    "    \"fingerprints_pca\": True,\n",
    "    \"pca_dim\": 32,\n",
    "}\n",
    "\n",
    "model_args = {\n",
    "    \"iterations\": 1000,\n",
    "    \"learning_rate\": 0.1,\n",
    "    \"depth\": 6,\n",
    "    \"loss_function\": 'Logloss',\n",
    "    \"verbose\": 0,\n",
    "    \"random_seed\": 100\n",
    "}\n",
    "X = X_combined\n",
    "```"
   ]
  },
  {
   "cell_type": "code",
   "execution_count": 15,
   "metadata": {},
   "outputs": [],
   "source": [
    "data_args = {\n",
    "    \"descriptors\": descriptors,\n",
    "    \"apply_norm\": False,\n",
    "    \"radius\": 2,\n",
    "    \"nbits\": 4096,\n",
    "    \"fingerprints_pca\": True,\n",
    "    \"pca_dim\": 32,\n",
    "}\n",
    "\n",
    "model_args = {\n",
    "    \"iterations\": 1000,\n",
    "    \"learning_rate\": 0.1,\n",
    "    \"depth\": 7,\n",
    "    \"loss_function\": 'Logloss',\n",
    "    \"verbose\": 0,\n",
    "    \"random_seed\": 100,\n",
    "    \"l2_leaf_reg\": 1\n",
    "}"
   ]
  },
  {
   "cell_type": "code",
   "execution_count": 16,
   "metadata": {},
   "outputs": [],
   "source": [
    "X_fps, X_at, y = create_data(df, **data_args)\n",
    "X_combined = np.hstack([X_fps, X_at])\n",
    "X_train, X_test, y_train, y_test = train_test_split(X_combined, y, test_size=TEST_SIZE, random_state=42)"
   ]
  },
  {
   "cell_type": "code",
   "execution_count": 17,
   "metadata": {},
   "outputs": [],
   "source": [
    "boosting_model = CatBoostClassifier(**model_args)\n",
    "boosting_model.fit(X_train, y_train, eval_set=(X_test, y_test))\n",
    "\n",
    "y_pred = boosting_model.predict(X_test)"
   ]
  },
  {
   "cell_type": "code",
   "execution_count": 18,
   "metadata": {},
   "outputs": [
    {
     "data": {
      "text/plain": [
       "{'ACC': 0.9182389937106918,\n",
       " 'BAL-ACC': 0.9171681976560024,\n",
       " 'ROC-AUC': 0.9171681976560024,\n",
       " 'R2': 0.6726322458029775}"
      ]
     },
     "execution_count": 18,
     "metadata": {},
     "output_type": "execute_result"
    }
   ],
   "source": [
    "eval_metrics(y_test, y_pred)"
   ]
  },
  {
   "cell_type": "markdown",
   "metadata": {},
   "source": [
    "---\n",
    "### 2.5) MLP with [X_at, PCA(X_fps)]"
   ]
  },
  {
   "cell_type": "code",
   "execution_count": 19,
   "metadata": {},
   "outputs": [],
   "source": [
    "import torch\n",
    "import torch.nn as nn\n",
    "import lightning\n",
    "import torch.nn.functional as F\n",
    "\n",
    "from torch.utils.data import DataLoader, TensorDataset"
   ]
  },
  {
   "cell_type": "code",
   "execution_count": 20,
   "metadata": {},
   "outputs": [],
   "source": [
    "class MLPClassifier(lightning.LightningModule):\n",
    "    def __init__(self, input_dim, hidden_dim, output_dim, lr=1e-2):\n",
    "        super().__init__()\n",
    "        self.layer_1 = nn.Linear(input_dim, hidden_dim)\n",
    "        self.layer_2 = nn.Linear(hidden_dim, hidden_dim)\n",
    "        self.layer_out = nn.Linear(hidden_dim, output_dim)\n",
    "\n",
    "        self.loss_fn = nn.BCEWithLogitsLoss()\n",
    "\n",
    "        self.lr = lr\n",
    "\n",
    "    def forward(self, x):\n",
    "        x = F.relu(self.layer_1(x))\n",
    "        x = F.relu(self.layer_2(x))\n",
    "        return self.layer_out(x)\n",
    "\n",
    "    def configure_optimizers(self):\n",
    "        return torch.optim.Adam(self.parameters(), lr=self.lr)\n",
    "\n",
    "    def training_step(self, batch, *args, **kwargs):\n",
    "        x, y = batch\n",
    "        logits = self(x)\n",
    "        loss = self.loss_fn(logits, y)\n",
    "        return loss\n",
    "\n",
    "    @torch.no_grad()\n",
    "    def predict(self, X, threshold=0.5):\n",
    "        X = torch.tensor(X)\n",
    "        logits = self(X)\n",
    "        probs = torch.sigmoid(logits)\n",
    "        preds = (probs > threshold).to(int)\n",
    "\n",
    "        return preds.flatten().numpy()\n",
    "\n",
    "    @torch.no_grad()\n",
    "    def get_embeds(self, x):\n",
    "        x = F.relu(self.layer_1(x))\n",
    "        x = self.layer_2(x)\n",
    "\n",
    "        return x"
   ]
  },
  {
   "cell_type": "code",
   "execution_count": 21,
   "metadata": {},
   "outputs": [
    {
     "data": {
      "text/plain": [
       "tensor([0, 1])"
      ]
     },
     "execution_count": 21,
     "metadata": {},
     "output_type": "execute_result"
    }
   ],
   "source": [
    "(torch.tensor([0.4, 0.9]) > 0.5).to(int)"
   ]
  },
  {
   "cell_type": "code",
   "execution_count": 22,
   "metadata": {},
   "outputs": [
    {
     "data": {
      "text/plain": [
       "tensor([0.5987, 0.7109])"
      ]
     },
     "execution_count": 22,
     "metadata": {},
     "output_type": "execute_result"
    }
   ],
   "source": [
    "torch.sigmoid(\n",
    "    torch.tensor([0.4, 0.9])\n",
    ")"
   ]
  },
  {
   "cell_type": "code",
   "execution_count": 23,
   "metadata": {},
   "outputs": [],
   "source": [
    "data_args = {\n",
    "    \"descriptors\": descriptors,\n",
    "    \"apply_norm\": False,\n",
    "    \"radius\": 2,\n",
    "    \"nbits\": 4096,\n",
    "    \"fingerprints_pca\": True,\n",
    "    \"pca_dim\": 8,\n",
    "}\n",
    "\n",
    "\n",
    "X_fps, X_at, y = create_data(df, **data_args)\n",
    "X_combined = np.hstack([X_fps, X_at])"
   ]
  },
  {
   "cell_type": "code",
   "execution_count": 24,
   "metadata": {},
   "outputs": [],
   "source": [
    "X_tensor = torch.tensor(X_combined, dtype=torch.float32)\n",
    "y_tensor = torch.tensor(y, dtype=torch.float32).unsqueeze(1)\n",
    "\n",
    "X_train, X_val, y_train, y_val = train_test_split(X_tensor, y_tensor, test_size=TEST_SIZE)"
   ]
  },
  {
   "cell_type": "code",
   "execution_count": 25,
   "metadata": {},
   "outputs": [],
   "source": [
    "train_dataset = TensorDataset(X_train, y_train)"
   ]
  },
  {
   "cell_type": "code",
   "execution_count": 26,
   "metadata": {},
   "outputs": [],
   "source": [
    "input_dim = X_train.shape[1]\n",
    "hidden_dim = 64\n",
    "output_dim = 1\n",
    "lr = 1e-2\n",
    "\n",
    "mlp_model = MLPClassifier(\n",
    "    input_dim=input_dim, hidden_dim=hidden_dim, output_dim=output_dim, lr=lr\n",
    ")"
   ]
  },
  {
   "cell_type": "code",
   "execution_count": 27,
   "metadata": {},
   "outputs": [
    {
     "name": "stderr",
     "output_type": "stream",
     "text": [
      "GPU available: True (mps), used: True\n",
      "TPU available: False, using: 0 TPU cores\n",
      "HPU available: False, using: 0 HPUs\n",
      "/Users/aleksandr.varlamov/anaconda3/envs/phase-pred/lib/python3.10/site-packages/lightning/pytorch/trainer/connectors/logger_connector/logger_connector.py:75: Starting from v1.9.0, `tensorboardX` has been removed as a dependency of the `lightning.pytorch` package, due to potential conflicts with other packages in the ML ecosystem. For this reason, `logger=True` will use `CSVLogger` as the default logger, unless the `tensorboard` or `tensorboardX` packages are found. Please `pip install lightning[extra]` or one of them to enable TensorBoard support by default\n",
      "\n",
      "  | Name      | Type              | Params | Mode \n",
      "--------------------------------------------------------\n",
      "0 | layer_1   | Linear            | 1.7 K  | train\n",
      "1 | layer_2   | Linear            | 4.2 K  | train\n",
      "2 | layer_out | Linear            | 65     | train\n",
      "3 | loss_fn   | BCEWithLogitsLoss | 0      | train\n",
      "--------------------------------------------------------\n",
      "6.0 K     Trainable params\n",
      "0         Non-trainable params\n",
      "6.0 K     Total params\n",
      "0.024     Total estimated model params size (MB)\n",
      "4         Modules in train mode\n",
      "0         Modules in eval mode\n",
      "/Users/aleksandr.varlamov/anaconda3/envs/phase-pred/lib/python3.10/site-packages/lightning/pytorch/trainer/connectors/data_connector.py:424: The 'train_dataloader' does not have many workers which may be a bottleneck. Consider increasing the value of the `num_workers` argument` to `num_workers=7` in the `DataLoader` to improve performance.\n",
      "/Users/aleksandr.varlamov/anaconda3/envs/phase-pred/lib/python3.10/site-packages/lightning/pytorch/loops/fit_loop.py:298: The number of training batches (1) is smaller than the logging interval Trainer(log_every_n_steps=50). Set a lower value for log_every_n_steps if you want to see logs for the training epoch.\n"
     ]
    },
    {
     "data": {
      "application/vnd.jupyter.widget-view+json": {
       "model_id": "9a9ae843e9d54a5d8cbdb4692ceedd34",
       "version_major": 2,
       "version_minor": 0
      },
      "text/plain": [
       "Training: |          | 0/? [00:00<?, ?it/s]"
      ]
     },
     "metadata": {},
     "output_type": "display_data"
    },
    {
     "name": "stderr",
     "output_type": "stream",
     "text": [
      "`Trainer.fit` stopped: `max_epochs=100` reached.\n"
     ]
    }
   ],
   "source": [
    "max_epochs = 100\n",
    "batch_size = 1000\n",
    "\n",
    "train_loader = DataLoader(train_dataset, batch_size=batch_size)\n",
    "trainer = lightning.Trainer(max_epochs=max_epochs)\n",
    "trainer.fit(mlp_model, train_loader)"
   ]
  },
  {
   "cell_type": "code",
   "execution_count": 28,
   "metadata": {},
   "outputs": [
    {
     "name": "stderr",
     "output_type": "stream",
     "text": [
      "/var/folders/1r/q2t9qwhn5p52b7p0bhtkg3pc0000gq/T/ipykernel_46730/3213691226.py:28: UserWarning: To copy construct from a tensor, it is recommended to use sourceTensor.clone().detach() or sourceTensor.clone().detach().requires_grad_(True), rather than torch.tensor(sourceTensor).\n",
      "  X = torch.tensor(X)\n"
     ]
    }
   ],
   "source": [
    "y_pred = mlp_model.predict(X_val)"
   ]
  },
  {
   "cell_type": "code",
   "execution_count": 29,
   "metadata": {},
   "outputs": [
    {
     "data": {
      "text/plain": [
       "{'ACC': 0.8867924528301887,\n",
       " 'BAL-ACC': 0.8879785853341986,\n",
       " 'ROC-AUC': 0.8879785853341985,\n",
       " 'R2': 0.5356911096690462}"
      ]
     },
     "execution_count": 29,
     "metadata": {},
     "output_type": "execute_result"
    }
   ],
   "source": [
    "eval_metrics(y_val, y_pred)"
   ]
  },
  {
   "cell_type": "markdown",
   "metadata": {},
   "source": [
    "---\n",
    "# predict melting T"
   ]
  },
  {
   "cell_type": "markdown",
   "metadata": {},
   "source": [
    "- Предсказанное probability для бинарной классификации коррелирует с удалением от разделяющей плоскости: \n",
    "  - По факту логиты нейросетки показывают насколько объект удален от разделяющей плоскости\n",
    "  - Для бустинга это сами вероятности"
   ]
  },
  {
   "cell_type": "code",
   "execution_count": 30,
   "metadata": {},
   "outputs": [],
   "source": [
    "df_temp = create_df(\n",
    "    data_path=\"data/small_dataset_solid_liquid_with_Tmelt_data.ssv\",\n",
    "    columns=['line_number', 'smiles', 'cas', 'label', 'T']\n",
    ")"
   ]
  },
  {
   "cell_type": "code",
   "execution_count": 31,
   "metadata": {},
   "outputs": [],
   "source": [
    "df_temp['T'] = df_temp['T'].replace('fail', np.nan).astype(float)"
   ]
  },
  {
   "cell_type": "code",
   "execution_count": 32,
   "metadata": {},
   "outputs": [],
   "source": [
    "df_temp_available = df_temp[df_temp['T'].notna()]"
   ]
  },
  {
   "cell_type": "code",
   "execution_count": 33,
   "metadata": {},
   "outputs": [],
   "source": [
    "df_temp_nan = df_temp[df_temp['T'].isna()]"
   ]
  },
  {
   "cell_type": "code",
   "execution_count": 34,
   "metadata": {},
   "outputs": [
    {
     "data": {
      "text/plain": [
       "0.3"
      ]
     },
     "execution_count": 34,
     "metadata": {},
     "output_type": "execute_result"
    }
   ],
   "source": [
    "len(df_temp_available) / len(df_temp_nan)"
   ]
  },
  {
   "cell_type": "markdown",
   "metadata": {},
   "source": [
    "### Обучу классификатор фазового состояния на тех данных, для которых нет температуры в данных\n",
    "- На 70% получается\n",
    "- Чтобы вообще не было никаких data leak'ов так делаю\n",
    "- Построю зависимость: temp от pred_proba"
   ]
  },
  {
   "cell_type": "code",
   "execution_count": 35,
   "metadata": {},
   "outputs": [],
   "source": [
    "data_args = {\n",
    "    \"descriptors\": descriptors,\n",
    "    \"apply_norm\": False,\n",
    "    \"radius\": 2,\n",
    "    \"nbits\": 4096,\n",
    "    \"fingerprints_pca\": True,\n",
    "    \"pca_dim\": 32,\n",
    "}\n",
    "\n",
    "model_args = {\n",
    "    \"iterations\": 100,\n",
    "    \"learning_rate\": 0.1,\n",
    "    \"depth\": 7,\n",
    "    \"loss_function\": 'Logloss',\n",
    "    \"verbose\": 0,\n",
    "    \"random_seed\": 100,\n",
    "    \"l2_leaf_reg\": 1\n",
    "}"
   ]
  },
  {
   "cell_type": "code",
   "execution_count": 36,
   "metadata": {},
   "outputs": [],
   "source": [
    "data_args = {\n",
    "    \"descriptors\": descriptors,\n",
    "    \"apply_norm\": False,\n",
    "    \"radius\": 2,\n",
    "    \"nbits\": 4096,\n",
    "    \"fingerprints_pca\": True,\n",
    "    \"pca_dim\": 32,\n",
    "}\n",
    "\n",
    "model_args = {\n",
    "    \"iterations\": 1000,\n",
    "    \"learning_rate\": 0.1,\n",
    "    \"depth\": 7,\n",
    "    \"loss_function\": 'Logloss',\n",
    "    \"verbose\": 0,\n",
    "    \"random_seed\": 100,\n",
    "    \"l2_leaf_reg\": 1\n",
    "}"
   ]
  },
  {
   "cell_type": "code",
   "execution_count": 37,
   "metadata": {},
   "outputs": [
    {
     "name": "stderr",
     "output_type": "stream",
     "text": [
      "/Users/aleksandr.varlamov/phase-prediction/utils.py:80: SettingWithCopyWarning: \n",
      "A value is trying to be set on a copy of a slice from a DataFrame.\n",
      "Try using .loc[row_indexer,col_indexer] = value instead\n",
      "\n",
      "See the caveats in the documentation: https://pandas.pydata.org/pandas-docs/stable/user_guide/indexing.html#returning-a-view-versus-a-copy\n",
      "  df['fingerprints'] = smiles.apply(compute_fingerprints, args=(radius, nbits,))\n",
      "/Users/aleksandr.varlamov/phase-prediction/utils.py:80: SettingWithCopyWarning: \n",
      "A value is trying to be set on a copy of a slice from a DataFrame.\n",
      "Try using .loc[row_indexer,col_indexer] = value instead\n",
      "\n",
      "See the caveats in the documentation: https://pandas.pydata.org/pandas-docs/stable/user_guide/indexing.html#returning-a-view-versus-a-copy\n",
      "  df['fingerprints'] = smiles.apply(compute_fingerprints, args=(radius, nbits,))\n"
     ]
    }
   ],
   "source": [
    "X_fps_train, X_at_train, y_train = create_data(df_temp_nan, **data_args)\n",
    "X_combined_train = np.hstack([X_fps_train, X_at_train])\n",
    "\n",
    "X_fps_val, X_at_val, y_val = create_data(df_temp_available, **data_args)\n",
    "X_combined_val = np.hstack([X_fps_val, X_at_val])"
   ]
  },
  {
   "cell_type": "code",
   "execution_count": 38,
   "metadata": {},
   "outputs": [
    {
     "data": {
      "text/plain": [
       "<catboost.core.CatBoostClassifier at 0x30a21cf10>"
      ]
     },
     "execution_count": 38,
     "metadata": {},
     "output_type": "execute_result"
    }
   ],
   "source": [
    "boosting_model = CatBoostClassifier(**model_args)\n",
    "boosting_model.fit(X_combined_train, y_train, eval_set=(X_test, y_test))"
   ]
  },
  {
   "cell_type": "code",
   "execution_count": 39,
   "metadata": {},
   "outputs": [
    {
     "data": {
      "text/plain": [
       "{'ACC': 0.8142076502732241,\n",
       " 'BAL-ACC': 0.8305340223944875,\n",
       " 'ROC-AUC': 0.8305340223944875,\n",
       " 'R2': 0.10680447889750233}"
      ]
     },
     "execution_count": 39,
     "metadata": {},
     "output_type": "execute_result"
    }
   ],
   "source": [
    "y_pred = boosting_model.predict(X_combined_val)\n",
    "eval_metrics(y_val, y_pred)"
   ]
  },
  {
   "cell_type": "code",
   "execution_count": 40,
   "metadata": {},
   "outputs": [],
   "source": [
    "pred_probs = boosting_model.predict_proba(X_combined_val)[:, 0]"
   ]
  },
  {
   "cell_type": "code",
   "execution_count": 41,
   "metadata": {},
   "outputs": [
    {
     "data": {
      "text/plain": [
       "Text(0, 0.5, 'Melt Temperature')"
      ]
     },
     "execution_count": 41,
     "metadata": {},
     "output_type": "execute_result"
    },
    {
     "data": {
      "image/png": "[encoded data removed]",
      "text/plain": [
       "<Figure size 640x480 with 1 Axes>"
      ]
     },
     "metadata": {},
     "output_type": "display_data"
    }
   ],
   "source": [
    "plt.scatter(\n",
    "    pred_probs, df_temp_available[\"T\"]\n",
    ")\n",
    "\n",
    "plt.xlabel(\"Predicted probability for class 1\", fontsize=16)\n",
    "\n",
    "plt.ylabel(\"Melt Temperature\", fontsize=16)"
   ]
  },
  {
   "cell_type": "markdown",
   "metadata": {},
   "source": [
    "---"
   ]
  },
  {
   "cell_type": "markdown",
   "metadata": {},
   "source": [
    "## Предсказание температуры:"
   ]
  },
  {
   "cell_type": "code",
   "execution_count": 42,
   "metadata": {},
   "outputs": [],
   "source": [
    "from sklearn.linear_model import LinearRegression"
   ]
  },
  {
   "cell_type": "code",
   "execution_count": 43,
   "metadata": {},
   "outputs": [],
   "source": [
    "from catboost import CatBoostRegressor"
   ]
  },
  {
   "cell_type": "code",
   "execution_count": 44,
   "metadata": {},
   "outputs": [],
   "source": [
    "TEST_SIZE = 0.4"
   ]
  },
  {
   "cell_type": "code",
   "execution_count": 45,
   "metadata": {},
   "outputs": [],
   "source": [
    "X_temp_train, X_temp_val, y_temp_train, y_temp_val = train_test_split(pred_probs.reshape(-1, 1), df_temp_available[\"T\"], test_size=TEST_SIZE)"
   ]
  },
  {
   "cell_type": "code",
   "execution_count": 46,
   "metadata": {},
   "outputs": [],
   "source": [
    "model_args = {\n",
    "    \"iterations\": 1000,\n",
    "    \"learning_rate\": 0.1,\n",
    "    \"depth\": 7,\n",
    "    \"verbose\": 0,\n",
    "    \"random_seed\": 100,\n",
    "    \"l2_leaf_reg\": 1\n",
    "}"
   ]
  },
  {
   "cell_type": "code",
   "execution_count": 47,
   "metadata": {},
   "outputs": [
    {
     "data": {
      "text/plain": [
       "<catboost.core.CatBoostRegressor at 0x30a21d090>"
      ]
     },
     "execution_count": 47,
     "metadata": {},
     "output_type": "execute_result"
    }
   ],
   "source": [
    "boosting_temp = CatBoostRegressor(**model_args)\n",
    "\n",
    "boosting_temp.fit(X_temp_train, y_temp_train)"
   ]
  },
  {
   "cell_type": "code",
   "execution_count": 48,
   "metadata": {},
   "outputs": [],
   "source": [
    "y_pred = boosting_temp.predict(X_temp_val)"
   ]
  },
  {
   "cell_type": "code",
   "execution_count": 49,
   "metadata": {},
   "outputs": [
    {
     "data": {
      "text/plain": [
       "{'MSE': 9927.115622845227,\n",
       " 'RMSE': 99.63491166677083,\n",
       " 'MAE': 78.05584206127246,\n",
       " 'R2': -0.06792081724707799}"
      ]
     },
     "execution_count": 49,
     "metadata": {},
     "output_type": "execute_result"
    }
   ],
   "source": [
    "eval_metrics(y_temp_val, y_pred, type=\"regr\")"
   ]
  },
  {
   "cell_type": "code",
   "execution_count": 50,
   "metadata": {},
   "outputs": [
    {
     "data": {
      "text/plain": [
       "<matplotlib.legend.Legend at 0x30a23ded0>"
      ]
     },
     "execution_count": 50,
     "metadata": {},
     "output_type": "execute_result"
    },
    {
     "data": {
      "image/png": "[encoded data removed]",
      "text/plain": [
       "<Figure size 800x600 with 1 Axes>"
      ]
     },
     "metadata": {},
     "output_type": "display_data"
    }
   ],
   "source": [
    "plt.figure(figsize=(8, 6))\n",
    "\n",
    "plt.scatter(\n",
    "    X_temp_val, y_pred, label=\"boosting-predict\"\n",
    ")\n",
    "\n",
    "plt.scatter(\n",
    "    X_temp_val, y_temp_val, label=\"true\"\n",
    ")\n",
    "\n",
    "plt.xlabel(\"Predicted probability for class 1\", fontsize=16)\n",
    "plt.ylabel(\"Melt Temperature\", fontsize=16)\n",
    "\n",
    "plt.legend(fontsize=16)"
   ]
  },
  {
   "cell_type": "code",
   "execution_count": 51,
   "metadata": {},
   "outputs": [
    {
     "data": {
      "text/plain": [
       "<matplotlib.legend.Legend at 0x30a2640a0>"
      ]
     },
     "execution_count": 51,
     "metadata": {},
     "output_type": "execute_result"
    },
    {
     "data": {
      "image/png": "[encoded data removed]",
      "text/plain": [
       "<Figure size 800x600 with 1 Axes>"
      ]
     },
     "metadata": {},
     "output_type": "display_data"
    }
   ],
   "source": [
    "plt.figure(figsize=(8, 6))\n",
    "\n",
    "plt.scatter(\n",
    "    y_pred, y_temp_val, label=\"Pred-True: Distance Only\"\n",
    ")\n",
    "\n",
    "plt.xlabel(\"T pred\", fontsize=16)\n",
    "plt.ylabel(\"T true\", fontsize=16)\n",
    "\n",
    "plt.legend(fontsize=16)"
   ]
  },
  {
   "cell_type": "markdown",
   "metadata": {},
   "source": [
    "---\n",
    "### Сравнимся с молекулярными дескрипторами для предсказания T_melt"
   ]
  },
  {
   "cell_type": "code",
   "execution_count": 52,
   "metadata": {},
   "outputs": [],
   "source": [
    "data_args = {\n",
    "    \"descriptors\": descriptors,\n",
    "    \"apply_norm\": False,\n",
    "    \"radius\": 2,\n",
    "    \"nbits\": 4096,\n",
    "    \"fingerprints_pca\": True,\n",
    "    \"pca_dim\": 4,\n",
    "}"
   ]
  },
  {
   "cell_type": "code",
   "execution_count": 53,
   "metadata": {},
   "outputs": [
    {
     "name": "stderr",
     "output_type": "stream",
     "text": [
      "/Users/aleksandr.varlamov/phase-prediction/utils.py:80: SettingWithCopyWarning: \n",
      "A value is trying to be set on a copy of a slice from a DataFrame.\n",
      "Try using .loc[row_indexer,col_indexer] = value instead\n",
      "\n",
      "See the caveats in the documentation: https://pandas.pydata.org/pandas-docs/stable/user_guide/indexing.html#returning-a-view-versus-a-copy\n",
      "  df['fingerprints'] = smiles.apply(compute_fingerprints, args=(radius, nbits,))\n"
     ]
    }
   ],
   "source": [
    "temp = df_temp_available[\"T\"]\n",
    "X_fps, X_at, labels = create_data(df_temp_available, **data_args)\n",
    "X_combined = np.hstack([X_fps, X_at])"
   ]
  },
  {
   "cell_type": "code",
   "execution_count": 54,
   "metadata": {},
   "outputs": [],
   "source": [
    "X_temp_train, X_temp_val, y_temp_train, y_temp_val = train_test_split(X_combined, temp, test_size=TEST_SIZE)"
   ]
  },
  {
   "cell_type": "code",
   "execution_count": 55,
   "metadata": {},
   "outputs": [],
   "source": [
    "model = CatBoostRegressor(**model_args)"
   ]
  },
  {
   "cell_type": "code",
   "execution_count": 56,
   "metadata": {},
   "outputs": [
    {
     "data": {
      "text/plain": [
       "<catboost.core.CatBoostRegressor at 0x30a236650>"
      ]
     },
     "execution_count": 56,
     "metadata": {},
     "output_type": "execute_result"
    }
   ],
   "source": [
    "model.fit(X_temp_train, y_temp_train)"
   ]
  },
  {
   "cell_type": "code",
   "execution_count": 57,
   "metadata": {},
   "outputs": [],
   "source": [
    "t_pred = model.predict(X_temp_val)"
   ]
  },
  {
   "cell_type": "code",
   "execution_count": 58,
   "metadata": {},
   "outputs": [
    {
     "data": {
      "text/plain": [
       "{'MSE': 3639.0787966341713,\n",
       " 'RMSE': 60.324777634353296,\n",
       " 'MAE': 48.00139491439659,\n",
       " 'R2': 0.6356327711680252}"
      ]
     },
     "execution_count": 58,
     "metadata": {},
     "output_type": "execute_result"
    }
   ],
   "source": [
    "eval_metrics(y_temp_val, t_pred, type=\"regr\")"
   ]
  },
  {
   "cell_type": "code",
   "execution_count": 59,
   "metadata": {},
   "outputs": [
    {
     "data": {
      "text/plain": [
       "<matplotlib.legend.Legend at 0x30a0cfbe0>"
      ]
     },
     "execution_count": 59,
     "metadata": {},
     "output_type": "execute_result"
    },
    {
     "data": {
      "image/png": "[encoded data removed]",
      "text/plain": [
       "<Figure size 800x600 with 1 Axes>"
      ]
     },
     "metadata": {},
     "output_type": "display_data"
    }
   ],
   "source": [
    "plt.figure(figsize=(8, 6))\n",
    "\n",
    "plt.scatter(\n",
    "    t_pred, y_temp_val, label=\"Pred-True: Mol Desc Only\"\n",
    ")\n",
    "\n",
    "plt.xlabel(\"T pred\", fontsize=16)\n",
    "plt.ylabel(\"T true\", fontsize=16)\n",
    "\n",
    "plt.legend(fontsize=16)"
   ]
  },
  {
   "cell_type": "markdown",
   "metadata": {},
   "source": [
    "---\n",
    "### Комбинация фичей из rdkit и расстояния:"
   ]
  },
  {
   "cell_type": "code",
   "execution_count": 60,
   "metadata": {},
   "outputs": [
    {
     "name": "stderr",
     "output_type": "stream",
     "text": [
      "/Users/aleksandr.varlamov/phase-prediction/utils.py:80: SettingWithCopyWarning: \n",
      "A value is trying to be set on a copy of a slice from a DataFrame.\n",
      "Try using .loc[row_indexer,col_indexer] = value instead\n",
      "\n",
      "See the caveats in the documentation: https://pandas.pydata.org/pandas-docs/stable/user_guide/indexing.html#returning-a-view-versus-a-copy\n",
      "  df['fingerprints'] = smiles.apply(compute_fingerprints, args=(radius, nbits,))\n"
     ]
    }
   ],
   "source": [
    "temp = df_temp_available[\"T\"]\n",
    "X_fps, X_at, labels = create_data(df_temp_available, **data_args)\n",
    "X_combined = np.hstack([X_fps, X_at, pred_probs.reshape(-1, 1)])"
   ]
  },
  {
   "cell_type": "code",
   "execution_count": 61,
   "metadata": {},
   "outputs": [],
   "source": [
    "X_temp_train, X_temp_val, y_temp_train, y_temp_val = train_test_split(X_combined, temp, test_size=TEST_SIZE)"
   ]
  },
  {
   "cell_type": "code",
   "execution_count": 62,
   "metadata": {},
   "outputs": [],
   "source": [
    "model = CatBoostRegressor(**model_args)"
   ]
  },
  {
   "cell_type": "code",
   "execution_count": 63,
   "metadata": {},
   "outputs": [
    {
     "data": {
      "text/plain": [
       "<catboost.core.CatBoostRegressor at 0x30a0a44f0>"
      ]
     },
     "execution_count": 63,
     "metadata": {},
     "output_type": "execute_result"
    }
   ],
   "source": [
    "model.fit(X_temp_train, y_temp_train)"
   ]
  },
  {
   "cell_type": "code",
   "execution_count": 64,
   "metadata": {},
   "outputs": [],
   "source": [
    "t_pred = model.predict(X_temp_val)"
   ]
  },
  {
   "cell_type": "code",
   "execution_count": 65,
   "metadata": {},
   "outputs": [
    {
     "data": {
      "text/plain": [
       "{'MSE': 3926.3704402539297,\n",
       " 'RMSE': 62.66075678009267,\n",
       " 'MAE': 48.624810669325456,\n",
       " 'R2': 0.6207131682000198}"
      ]
     },
     "execution_count": 65,
     "metadata": {},
     "output_type": "execute_result"
    }
   ],
   "source": [
    "eval_metrics(y_temp_val, t_pred, type=\"regr\")"
   ]
  },
  {
   "cell_type": "code",
   "execution_count": 66,
   "metadata": {},
   "outputs": [
    {
     "data": {
      "text/plain": [
       "<matplotlib.legend.Legend at 0x31f0075e0>"
      ]
     },
     "execution_count": 66,
     "metadata": {},
     "output_type": "execute_result"
    },
    {
     "data": {
      "image/png": "[encoded data removed]",
      "text/plain": [
       "<Figure size 800x600 with 1 Axes>"
      ]
     },
     "metadata": {},
     "output_type": "display_data"
    }
   ],
   "source": [
    "plt.figure(figsize=(8, 6))\n",
    "\n",
    "plt.scatter(\n",
    "    t_pred, y_temp_val, label=\"Pred-True: Mol Desc + Distance\"\n",
    ")\n",
    "\n",
    "plt.xlabel(\"T pred\", fontsize=16)\n",
    "plt.ylabel(\"T true\", fontsize=16)\n",
    "\n",
    "plt.legend(fontsize=16)"
   ]
  }
 ],
 "metadata": {
  "kernelspec": {
   "display_name": "phase-pred",
   "language": "python",
   "name": "python3"
  },
  "language_info": {
   "codemirror_mode": {
    "name": "ipython",
    "version": 3
   },
   "file_extension": ".py",
   "mimetype": "text/x-python",
   "name": "python",
   "nbconvert_exporter": "python",
   "pygments_lexer": "ipython3",
   "version": "3.10.15"
  }
 },
 "nbformat": 4,
 "nbformat_minor": 2
}
